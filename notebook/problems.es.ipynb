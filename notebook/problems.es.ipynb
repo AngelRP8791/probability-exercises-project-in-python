{
 "cells": [
  {
   "cell_type": "markdown",
   "id": "a41f3622",
   "metadata": {},
   "source": [
    "# Ejercicios de probabilidad"
   ]
  },
  {
   "cell_type": "markdown",
   "id": "a6bdbd89",
   "metadata": {},
   "source": [
    "## Ejercicio 1 \n",
    "\n",
    "Dos dados se lanzan una vez y se observa el total obtenido. Usa una simulación para encontrar la probabilidad estimada de que la puntuación sea mayor a 7 o un número par. Una simulación es una repetición del mismo experimento multiples veces para observar su comportamiento:\n",
    "\n",
    "- Ejecuta el experimento 1000 veces (lanza 2 dados 1000 veces, y suma el número de ambos dados).\n",
    "- Lleva ua cuenta de los números y las veces que la suma fue mayor a 7 o un número par.\n",
    "- Divide el número del paso 2 entre el número de iteraciones(1000)."
   ]
  },
  {
   "cell_type": "code",
   "execution_count": 3,
   "id": "847650e3",
   "metadata": {},
   "outputs": [],
   "source": [
    "import random"
   ]
  },
  {
   "cell_type": "code",
   "execution_count": 4,
   "id": "8939d892",
   "metadata": {},
   "outputs": [
    {
     "name": "stdout",
     "output_type": "stream",
     "text": [
      "Veces que sale el No. 7 ó un número par: 586\n",
      "Probabilidad de obtener un siete ó número par con dos dados:  58.599999999999994 %\n"
     ]
    }
   ],
   "source": [
    "eventos = 1000\n",
    "\n",
    "Dado_1 = [1,2,3,4,5,6]\n",
    "Dado_2 = [1,2,3,4,5,6]\n",
    "Cont_7_ó_par = 0\n",
    "Cont_resto = 0\n",
    "\n",
    "for i in range(eventos):\n",
    "    if (random.choice(Dado_1) + random.choice(Dado_2)) == 7 or (random.choice(Dado_1) + random.choice(Dado_2)) % 2 == 0:\n",
    "        Cont_7_ó_par += 1\n",
    "    else:\n",
    "        Cont_resto += 1\n",
    "\n",
    "print(\"Veces que sale el No. 7 ó un número par:\", Cont_7_ó_par)\n",
    "print(\"Probabilidad de obtener un siete ó número par con dos dados: \", Cont_7_ó_par/eventos*100,\"%\")"
   ]
  },
  {
   "cell_type": "markdown",
   "id": "55732bca",
   "metadata": {},
   "source": [
    "## Ejercicio 2\n",
    "\n",
    "Una caja contiene 10 bolas blancas, 20 bolas rojas y 30 bolas verdes. Si tomamos 5 bolas de la caja reemplazándolas (tomando una bola, anotando el color y luego regresandola a la caja). Queremos saber la probabilidad de:\n",
    "\n",
    "1. Tomar 3 blancas y 2 rojas.\n",
    "2. Toas todas del mismo color.\n",
    "\n",
    "Ejecuta el experimento 1000 veces y calcula las probabilidades que mencionadas."
   ]
  },
  {
   "cell_type": "code",
   "execution_count": 5,
   "id": "23244d20",
   "metadata": {},
   "outputs": [
    {
     "name": "stdout",
     "output_type": "stream",
     "text": [
      "{0: 'blanca', 1: 'blanca', 2: 'blanca', 3: 'blanca', 4: 'blanca', 5: 'blanca', 6: 'blanca', 7: 'blanca', 8: 'blanca', 9: 'blanca', 10: 'roja', 11: 'roja', 12: 'roja', 13: 'roja', 14: 'roja', 15: 'roja', 16: 'roja', 17: 'roja', 18: 'roja', 19: 'roja', 20: 'roja', 21: 'roja', 22: 'roja', 23: 'roja', 24: 'roja', 25: 'roja', 26: 'roja', 27: 'roja', 28: 'roja', 29: 'roja', 30: 'verde', 31: 'verde', 32: 'verde', 33: 'verde', 34: 'verde', 35: 'verde', 36: 'verde', 37: 'verde', 38: 'verde', 39: 'verde', 40: 'verde', 41: 'verde', 42: 'verde', 43: 'verde', 44: 'verde', 45: 'verde', 46: 'verde', 47: 'verde', 48: 'verde', 49: 'verde', 50: 'verde', 51: 'verde', 52: 'verde', 53: 'verde', 54: 'verde', 55: 'verde', 56: 'verde', 57: 'verde', 58: 'verde', 59: 'verde'}\n"
     ]
    }
   ],
   "source": [
    "caja = {}\n",
    "\n",
    "# Crea la cajas con las bolas\n",
    "for i in range(60):\n",
    "    if i < 10:\n",
    "        caja[i] = \"blanca\"\n",
    "    elif (i > 9) and (i < 30):\n",
    "        caja[i] = \"roja\"\n",
    "    else:\n",
    "        caja[i] = \"verde\"\n",
    "\n",
    "print(caja)"
   ]
  },
  {
   "cell_type": "code",
   "execution_count": 6,
   "id": "91672077",
   "metadata": {},
   "outputs": [
    {
     "name": "stdout",
     "output_type": "stream",
     "text": [
      "La probabilidad de que se obtengan 3 blancas y 2 rojas es de 0.2%\n",
      "La probabilidad de obtener 5 bolas blancas es de 0.0%\n",
      "La probabilidad de obtener 5 bolas rojas es de 0.5%\n",
      "La probabilidad de obtener 5 bolas verdes es de 3.1%\n"
     ]
    }
   ],
   "source": [
    "color1 = \"blanca\"\n",
    "color2 = \"roja\"\n",
    "color3 = \"verde\"\n",
    "\n",
    "intentos = 1000\n",
    "\n",
    "conteo = 0\n",
    "blancas = 0\n",
    "rojas = 0\n",
    "verdes = 0\n",
    "\n",
    "for _ in range(intentos):\n",
    "    toma = random.choices(caja, k = 5)\n",
    "    if toma.count(color1) == 3 and toma.count(color2) == 2:\n",
    "        conteo += 1\n",
    "    elif toma.count(color1) == 5:\n",
    "        blancas += 1\n",
    "    elif toma.count(color2) == 5:\n",
    "        rojas += 1\n",
    "    elif toma.count(color3) == 5:\n",
    "        verdes += 1\n",
    "\n",
    "print(f\"La probabilidad de que se obtengan 3 blancas y 2 rojas es de {(conteo/1000*100)}%\")\n",
    "print(f\"La probabilidad de obtener 5 bolas blancas es de {(blancas/1000)*100}%\")\n",
    "print(f\"La probabilidad de obtener 5 bolas rojas es de {(rojas/1000)*100}%\")\n",
    "print(f\"La probabilidad de obtener 5 bolas verdes es de {(verdes/1000)*100}%\")"
   ]
  }
 ],
 "metadata": {
  "kernelspec": {
   "display_name": "Python 3",
   "language": "python",
   "name": "python3"
  },
  "language_info": {
   "codemirror_mode": {
    "name": "ipython",
    "version": 3
   },
   "file_extension": ".py",
   "mimetype": "text/x-python",
   "name": "python",
   "nbconvert_exporter": "python",
   "pygments_lexer": "ipython3",
   "version": "3.13.4"
  }
 },
 "nbformat": 4,
 "nbformat_minor": 5
}
