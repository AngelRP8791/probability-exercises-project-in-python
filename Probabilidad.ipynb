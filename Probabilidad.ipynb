{
  "nbformat": 4,
  "nbformat_minor": 0,
  "metadata": {
    "colab": {
      "provenance": [],
      "authorship_tag": "ABX9TyNSPntoiL/AxVbmOLLYHu8V",
      "include_colab_link": true
    },
    "kernelspec": {
      "name": "python3",
      "display_name": "Python 3"
    },
    "language_info": {
      "name": "python"
    }
  },
  "cells": [
    {
      "cell_type": "markdown",
      "metadata": {
        "id": "view-in-github",
        "colab_type": "text"
      },
      "source": [
        "<a href=\"https://colab.research.google.com/github/AngelRP8791/probability-exercises-project-in-python/blob/main/Probabilidad.ipynb\" target=\"_parent\"><img src=\"https://colab.research.google.com/assets/colab-badge.svg\" alt=\"Open In Colab\"/></a>"
      ]
    },
    {
      "cell_type": "code",
      "execution_count": 164,
      "metadata": {
        "id": "_JeC84PMBidQ"
      },
      "outputs": [],
      "source": [
        "# # Ejercicios de probabilidad\n",
        "\n",
        "# ## Ejercicio 1\n",
        "# Dos dados se lanzan una vez y se observa el total obtenido. Usa una simulación para encontrar la probabilidad\n",
        "# estimada de que la puntuación sea mayor a 7 o un número par. Una simulación es una repetición del mismo experimento\n",
        "# multiples veces para observar su comportamiento:\n",
        "# - Ejecuta el experimento 1000 veces (lanza 2 dados 1000 veces, y suma el número de ambos dados).\n",
        "# - Lleva ua cuenta de los números y las veces que la suma fue mayor a 7 o un número par.\n",
        "# - Divide el número del paso 2 entre el número de iteraciones(1000)."
      ]
    },
    {
      "cell_type": "code",
      "source": [
        "import random\n",
        "\n",
        "eventos = 1000\n",
        "Dado_1 = [1,2,3,4,5,6]\n",
        "Dado_2 = [1,2,3,4,5,6]\n",
        "Cont_7 = 0\n",
        "Cont_par = 0\n",
        "Cont_resto = 0\n",
        "\n",
        "for i in range(eventos):\n",
        "    if random.choice(Dado_1) + random.choice(Dado_2) == 7:\n",
        "        Cont_7 += 1\n",
        "    elif (random.choice(Dado_1) + random.choice(Dado_2)) % 2 == 0:\n",
        "        Cont_par += 1\n",
        "    else:\n",
        "        Cont_resto += 1\n",
        "\n",
        "print(\"Veces que sale el No. 7:\", Cont_7)\n",
        "print(\"Veces que sale número par:\", Cont_par)\n",
        "print(\"Probabilidad de obtener un siete con dos dados: \", Cont_7/eventos*100,\";\\nprobabilidad de obtener un número par con dos dados: \",Cont_par/eventos*100)"
      ],
      "metadata": {
        "colab": {
          "base_uri": "https://localhost:8080/"
        },
        "id": "HtlNPcqcC2Im",
        "outputId": "4f232ecb-d03a-4e86-8507-58baa34912dd"
      },
      "execution_count": 165,
      "outputs": [
        {
          "output_type": "stream",
          "name": "stdout",
          "text": [
            "Veces que sale el No. 7: 181\n",
            "Veces que sale número par: 380\n",
            "Probabilidad de obtener un siete con dos dados:  18.099999999999998 ;\n",
            "probabilidad de obtener un número par con dos dados:  38.0\n"
          ]
        }
      ]
    },
    {
      "cell_type": "code",
      "source": [
        "# ## Ejercicio 2\n",
        "#\n",
        "# Una caja contiene 10 bolas blancas, 20 bolas rojas y 30 bolas verdes. Si tomamos 5 bolas de la caja\n",
        "# reemplazándolas (tomando una bola, anotando el color y luego regresandola a la caja). Queremos saber la\n",
        "# probabilidad de:\n",
        "#\n",
        "# 1. Tomar 3 blancas y 2 rojas.\n",
        "# 2. Tomar todas del mismo color.\n",
        "#\n",
        "# Ejecuta el experimento 1000 veces y calcula las probabilidades que mencionadas.\n",
        "\n",
        "caja = {}\n",
        "\n",
        "# Crea la cajas con las bolas\n",
        "for i in range(60):\n",
        "    if i < 10:\n",
        "        caja[i] = \"blanca\"\n",
        "    elif (i > 9) and (i < 30):\n",
        "        caja[i] = \"roja\"\n",
        "    else:\n",
        "        caja[i] = \"verde\"\n",
        "\n",
        "print(caja)\n",
        "\n",
        "# TODO"
      ],
      "metadata": {
        "colab": {
          "base_uri": "https://localhost:8080/"
        },
        "id": "5J2FUiGDBvbf",
        "outputId": "e4ad5656-3b5e-42f7-e1a1-8c5d0838b060"
      },
      "execution_count": 166,
      "outputs": [
        {
          "output_type": "stream",
          "name": "stdout",
          "text": [
            "{0: 'blanca', 1: 'blanca', 2: 'blanca', 3: 'blanca', 4: 'blanca', 5: 'blanca', 6: 'blanca', 7: 'blanca', 8: 'blanca', 9: 'blanca', 10: 'roja', 11: 'roja', 12: 'roja', 13: 'roja', 14: 'roja', 15: 'roja', 16: 'roja', 17: 'roja', 18: 'roja', 19: 'roja', 20: 'roja', 21: 'roja', 22: 'roja', 23: 'roja', 24: 'roja', 25: 'roja', 26: 'roja', 27: 'roja', 28: 'roja', 29: 'roja', 30: 'verde', 31: 'verde', 32: 'verde', 33: 'verde', 34: 'verde', 35: 'verde', 36: 'verde', 37: 'verde', 38: 'verde', 39: 'verde', 40: 'verde', 41: 'verde', 42: 'verde', 43: 'verde', 44: 'verde', 45: 'verde', 46: 'verde', 47: 'verde', 48: 'verde', 49: 'verde', 50: 'verde', 51: 'verde', 52: 'verde', 53: 'verde', 54: 'verde', 55: 'verde', 56: 'verde', 57: 'verde', 58: 'verde', 59: 'verde'}\n"
          ]
        }
      ]
    },
    {
      "cell_type": "code",
      "source": [
        "bl3_roj2 = 0\n",
        "color1 = \"blanca\"\n",
        "color2 = \"roja\"\n",
        "color3 = \"verde\"\n",
        "\n",
        "for _ in range(1000):\n",
        "    toma = random.choices(caja, k = 5)\n",
        "    blanca = toma.count(color1)\n",
        "    roja = toma.count(color2)\n",
        "    conteo = 0\n",
        "    blancas = 0\n",
        "    rojas = 0\n",
        "    verdes = 0\n",
        "    if blanca == 3 and roja == 2:\n",
        "        conteo += 1\n",
        "    elif color1 == 5:\n",
        "        blancas += 1\n",
        "    elif color2 == 5:\n",
        "        rojas += 1\n",
        "    elif color3 == 5:\n",
        "        verdes += 1\n",
        "\n",
        "print(conteo)\n",
        "print(blancas)\n",
        "print(rojas)\n",
        "print(verdes)\n",
        "\n",
        "# los resultados indican que las probabilidades de que se susciten alguno de los dos eventos propuestos son nulas"
      ],
      "metadata": {
        "colab": {
          "base_uri": "https://localhost:8080/"
        },
        "id": "r5u97TA4YUO4",
        "outputId": "17c0b400-af90-48e7-813a-6bcb1ad07620"
      },
      "execution_count": 170,
      "outputs": [
        {
          "output_type": "stream",
          "name": "stdout",
          "text": [
            "0\n",
            "0\n",
            "0\n",
            "0\n"
          ]
        }
      ]
    }
  ]
}